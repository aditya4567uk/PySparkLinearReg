{
 "cells": [
  {
   "cell_type": "code",
   "execution_count": 1,
   "metadata": {},
   "outputs": [
    {
     "name": "stdout",
     "output_type": "stream",
     "text": [
      "Collecting pyspark\n",
      "Collecting py4j==0.10.9.5 (from pyspark)\n",
      "  Using cached https://files.pythonhosted.org/packages/86/ec/60880978512d5569ca4bf32b3b4d7776a528ecf4bca4523936c98c92a3c8/py4j-0.10.9.5-py2.py3-none-any.whl\n",
      "Installing collected packages: py4j, pyspark\n",
      "Successfully installed py4j-0.10.9.5 pyspark-3.2.4\n"
     ]
    }
   ],
   "source": [
    "!pip3 install pyspark"
   ]
  },
  {
   "cell_type": "code",
   "execution_count": 1,
   "metadata": {},
   "outputs": [],
   "source": [
    "import pyspark"
   ]
  },
  {
   "cell_type": "code",
   "execution_count": 2,
   "metadata": {},
   "outputs": [],
   "source": [
    "import pandas as pd"
   ]
  },
  {
   "cell_type": "code",
   "execution_count": 5,
   "metadata": {},
   "outputs": [
    {
     "name": "stdout",
     "output_type": "stream",
     "text": [
      "derby.log  Pictures\t\t  pig_1690366806721.log  pyspark.ipynb\r\n",
      "Desktop    pig_1690307044527.log  pig_1690405518562.log  Templates\r\n",
      "Documents  pig_1690307393867.log  pig_1690463400647.log  test.csv\r\n",
      "Downloads  pig_1690363108423.log  pig_1690542314953.log  Videos\r\n",
      "Music\t   pig_1690366509798.log  Public\r\n"
     ]
    }
   ],
   "source": [
    "!ls"
   ]
  },
  {
   "cell_type": "code",
   "execution_count": 7,
   "metadata": {},
   "outputs": [
    {
     "data": {
      "text/html": [
       "<div>\n",
       "<style scoped>\n",
       "    .dataframe tbody tr th:only-of-type {\n",
       "        vertical-align: middle;\n",
       "    }\n",
       "\n",
       "    .dataframe tbody tr th {\n",
       "        vertical-align: top;\n",
       "    }\n",
       "\n",
       "    .dataframe thead th {\n",
       "        text-align: right;\n",
       "    }\n",
       "</style>\n",
       "<table border=\"1\" class=\"dataframe\">\n",
       "  <thead>\n",
       "    <tr style=\"text-align: right;\">\n",
       "      <th></th>\n",
       "      <th>name</th>\n",
       "      <th>age</th>\n",
       "      <th>experience</th>\n",
       "    </tr>\n",
       "  </thead>\n",
       "  <tbody>\n",
       "    <tr>\n",
       "      <th>0</th>\n",
       "      <td>aditya</td>\n",
       "      <td>34</td>\n",
       "      <td>10</td>\n",
       "    </tr>\n",
       "    <tr>\n",
       "      <th>1</th>\n",
       "      <td>meow</td>\n",
       "      <td>25</td>\n",
       "      <td>3</td>\n",
       "    </tr>\n",
       "    <tr>\n",
       "      <th>2</th>\n",
       "      <td>nigga</td>\n",
       "      <td>12</td>\n",
       "      <td>2</td>\n",
       "    </tr>\n",
       "  </tbody>\n",
       "</table>\n",
       "</div>"
      ],
      "text/plain": [
       "     name  age  experience\n",
       "0  aditya   34          10\n",
       "1    meow   25           3\n",
       "2   nigga   12           2"
      ]
     },
     "execution_count": 7,
     "metadata": {},
     "output_type": "execute_result"
    }
   ],
   "source": [
    "df=pd.read_csv('test.csv')\n",
    "df.head()"
   ]
  },
  {
   "cell_type": "code",
   "execution_count": 3,
   "metadata": {},
   "outputs": [],
   "source": [
    "from pyspark.sql import SparkSession"
   ]
  },
  {
   "cell_type": "code",
   "execution_count": 4,
   "metadata": {},
   "outputs": [
    {
     "name": "stderr",
     "output_type": "stream",
     "text": [
      "/home/printadi/.local/lib/python3.6/site-packages/pyspark/context.py:238: FutureWarning: Python 3.6 support is deprecated in Spark 3.2.\n",
      "  FutureWarning\n"
     ]
    }
   ],
   "source": [
    "spark=SparkSession.builder.appName('practice').getOrCreate()"
   ]
  },
  {
   "cell_type": "code",
   "execution_count": 5,
   "metadata": {},
   "outputs": [
    {
     "data": {
      "text/html": [
       "\n",
       "            <div>\n",
       "                <p><b>SparkSession - in-memory</b></p>\n",
       "                \n",
       "        <div>\n",
       "            <p><b>SparkContext</b></p>\n",
       "\n",
       "            <p><a href=\"http://10.0.2.15:4040\">Spark UI</a></p>\n",
       "\n",
       "            <dl>\n",
       "              <dt>Version</dt>\n",
       "                <dd><code>v3.2.4</code></dd>\n",
       "              <dt>Master</dt>\n",
       "                <dd><code>local[*]</code></dd>\n",
       "              <dt>AppName</dt>\n",
       "                <dd><code>practice</code></dd>\n",
       "            </dl>\n",
       "        </div>\n",
       "        \n",
       "            </div>\n",
       "        "
      ],
      "text/plain": [
       "<pyspark.sql.session.SparkSession at 0x7f9ac1975b70>"
      ]
     },
     "execution_count": 5,
     "metadata": {},
     "output_type": "execute_result"
    }
   ],
   "source": [
    "spark"
   ]
  },
  {
   "cell_type": "code",
   "execution_count": 13,
   "metadata": {},
   "outputs": [
    {
     "data": {
      "text/plain": [
       "DataFrame[name: string, age: string, experience: string]"
      ]
     },
     "execution_count": 13,
     "metadata": {},
     "output_type": "execute_result"
    }
   ],
   "source": [
    "df_pyspark = spark.read.csv('test.csv',header=True)\n",
    "df_pyspark"
   ]
  },
  {
   "cell_type": "code",
   "execution_count": 14,
   "metadata": {},
   "outputs": [
    {
     "name": "stdout",
     "output_type": "stream",
     "text": [
      "+------+---+----------+\n",
      "|  name|age|experience|\n",
      "+------+---+----------+\n",
      "|aditya| 34|        10|\n",
      "|  meow| 25|         3|\n",
      "| nigga| 12|         2|\n",
      "+------+---+----------+\n",
      "\n"
     ]
    }
   ],
   "source": [
    "df_pyspark.show()"
   ]
  },
  {
   "cell_type": "code",
   "execution_count": 15,
   "metadata": {},
   "outputs": [
    {
     "name": "stdout",
     "output_type": "stream",
     "text": [
      "root\n",
      " |-- name: string (nullable = true)\n",
      " |-- age: string (nullable = true)\n",
      " |-- experience: string (nullable = true)\n",
      "\n"
     ]
    }
   ],
   "source": [
    "df_pyspark.printSchema()"
   ]
  },
  {
   "cell_type": "code",
   "execution_count": 17,
   "metadata": {},
   "outputs": [
    {
     "name": "stdout",
     "output_type": "stream",
     "text": [
      "+------+---+----------+\n",
      "|  name|age|experience|\n",
      "+------+---+----------+\n",
      "|aditya| 34|        10|\n",
      "|  meow| 25|         3|\n",
      "| nigga| 12|         2|\n",
      "+------+---+----------+\n",
      "\n",
      "root\n",
      " |-- name: string (nullable = true)\n",
      " |-- age: integer (nullable = true)\n",
      " |-- experience: integer (nullable = true)\n",
      "\n"
     ]
    }
   ],
   "source": [
    "df_pyspark = spark.read.csv('test.csv',header=True, inferSchema=True) #using inferschema to get exact datatype of ach col in dataset\n",
    "df_pyspark.show()\n",
    "df_pyspark.printSchema()\n",
    "#As you can see we got INTEGER in col AGE ; earlier we were getting String as AGE in dataset"
   ]
  },
  {
   "cell_type": "code",
   "execution_count": 18,
   "metadata": {},
   "outputs": [
    {
     "data": {
      "text/plain": [
       "pyspark.sql.dataframe.DataFrame"
      ]
     },
     "execution_count": 18,
     "metadata": {},
     "output_type": "execute_result"
    }
   ],
   "source": [
    "type(df_pyspark)"
   ]
  },
  {
   "cell_type": "code",
   "execution_count": 23,
   "metadata": {},
   "outputs": [
    {
     "name": "stdout",
     "output_type": "stream",
     "text": [
      "['name', 'age', 'experience']\n"
     ]
    }
   ],
   "source": [
    "print(df_pyspark.columns)"
   ]
  },
  {
   "cell_type": "code",
   "execution_count": 25,
   "metadata": {},
   "outputs": [
    {
     "name": "stdout",
     "output_type": "stream",
     "text": [
      "+------+\n",
      "|  name|\n",
      "+------+\n",
      "|aditya|\n",
      "|  meow|\n",
      "| nigga|\n",
      "+------+\n",
      "\n"
     ]
    }
   ],
   "source": [
    "#HOW TO SELECT A COLUMN\n",
    "df_pyspark.select('name').show()"
   ]
  },
  {
   "cell_type": "code",
   "execution_count": 26,
   "metadata": {},
   "outputs": [
    {
     "name": "stdout",
     "output_type": "stream",
     "text": [
      "+------+---+\n",
      "|  name|age|\n",
      "+------+---+\n",
      "|aditya| 34|\n",
      "|  meow| 25|\n",
      "| nigga| 12|\n",
      "+------+---+\n",
      "\n"
     ]
    }
   ],
   "source": [
    "#HOW TO SELECT multi COLUMN\n",
    "df_pyspark.select(['name','age']).show()"
   ]
  },
  {
   "cell_type": "code",
   "execution_count": 27,
   "metadata": {},
   "outputs": [
    {
     "data": {
      "text/plain": [
       "[('name', 'string'), ('age', 'int'), ('experience', 'int')]"
      ]
     },
     "execution_count": 27,
     "metadata": {},
     "output_type": "execute_result"
    }
   ],
   "source": [
    "#GET DATATYPES AND COLUMNS\n",
    "df_pyspark.dtypes"
   ]
  },
  {
   "cell_type": "code",
   "execution_count": 28,
   "metadata": {},
   "outputs": [
    {
     "name": "stdout",
     "output_type": "stream",
     "text": [
      "+-------+------+------------------+-----------------+\n",
      "|summary|  name|               age|       experience|\n",
      "+-------+------+------------------+-----------------+\n",
      "|  count|     3|                 3|                3|\n",
      "|   mean|  null|23.666666666666668|              5.0|\n",
      "| stddev|  null| 11.06044001535804|4.358898943540674|\n",
      "|    min|aditya|                12|                2|\n",
      "|    max| nigga|                34|               10|\n",
      "+-------+------+------------------+-----------------+\n",
      "\n"
     ]
    }
   ],
   "source": [
    "#GIVE SUMMARY ABOUT DATASET\n",
    "df_pyspark.describe().show()"
   ]
  },
  {
   "cell_type": "code",
   "execution_count": 33,
   "metadata": {},
   "outputs": [
    {
     "data": {
      "text/plain": [
       "Column<'age'>"
      ]
     },
     "execution_count": 33,
     "metadata": {},
     "output_type": "execute_result"
    }
   ],
   "source": [
    "df_pyspark['age']"
   ]
  },
  {
   "cell_type": "code",
   "execution_count": 32,
   "metadata": {},
   "outputs": [
    {
     "name": "stdout",
     "output_type": "stream",
     "text": [
      "+------+---+----------+---------------+\n",
      "|  name|age|experience|Exp_after_2_yrs|\n",
      "+------+---+----------+---------------+\n",
      "|aditya| 34|        10|             12|\n",
      "|  meow| 25|         3|              5|\n",
      "| nigga| 12|         2|              4|\n",
      "+------+---+----------+---------------+\n",
      "\n"
     ]
    }
   ],
   "source": [
    "#Add columns in DATAFRAME\n",
    "df_pyspark = df_pyspark.withColumn('Exp_after_2_yrs',df_pyspark['experience']+2)\n",
    "df_pyspark.show()"
   ]
  },
  {
   "cell_type": "code",
   "execution_count": 35,
   "metadata": {},
   "outputs": [
    {
     "name": "stdout",
     "output_type": "stream",
     "text": [
      "+------+---+----------+\n",
      "|  name|age|experience|\n",
      "+------+---+----------+\n",
      "|aditya| 34|        10|\n",
      "|  meow| 25|         3|\n",
      "| nigga| 12|         2|\n",
      "+------+---+----------+\n",
      "\n"
     ]
    }
   ],
   "source": [
    "#Drop the columns\n",
    "df_pyspark = df_pyspark.drop('Exp_after_2_yrs')\n",
    "df_pyspark.show()"
   ]
  },
  {
   "cell_type": "code",
   "execution_count": 38,
   "metadata": {},
   "outputs": [
    {
     "name": "stdout",
     "output_type": "stream",
     "text": [
      "+-------+---+----------+\n",
      "|NewName|age|experience|\n",
      "+-------+---+----------+\n",
      "| aditya| 34|        10|\n",
      "|   meow| 25|         3|\n",
      "|  nigga| 12|         2|\n",
      "+-------+---+----------+\n",
      "\n"
     ]
    }
   ],
   "source": [
    "#Rename columns\n",
    "df_pyspark.withColumnRenamed('name','NewName').show()\n",
    "\n",
    "#OR USE\n",
    "#df_pyspark = df_pyspark.withColumnRenamed('name','NewName')\n",
    "#df_pyspark.show()"
   ]
  },
  {
   "cell_type": "code",
   "execution_count": 41,
   "metadata": {},
   "outputs": [
    {
     "name": "stdout",
     "output_type": "stream",
     "text": [
      "+------+----+----+\n",
      "|  name| age| exp|\n",
      "+------+----+----+\n",
      "|aditya|  24|   2|\n",
      "|  meow|null|   3|\n",
      "|  null|  14|   3|\n",
      "| nigga|null|null|\n",
      "|  null|null|null|\n",
      "+------+----+----+\n",
      "\n"
     ]
    }
   ],
   "source": [
    "df = spark.read.csv('miss.csv',header=True,inferSchema=True)\n",
    "df.show()"
   ]
  },
  {
   "cell_type": "code",
   "execution_count": null,
   "metadata": {},
   "outputs": [],
   "source": [
    "#HANDLING MISSING VALUES\n"
   ]
  },
  {
   "cell_type": "code",
   "execution_count": 42,
   "metadata": {},
   "outputs": [
    {
     "name": "stdout",
     "output_type": "stream",
     "text": [
      "+------+---+---+\n",
      "|  name|age|exp|\n",
      "+------+---+---+\n",
      "|aditya| 24|  2|\n",
      "+------+---+---+\n",
      "\n"
     ]
    }
   ],
   "source": [
    "#DROP THOSE ROWS WHICH ARE HAVING NULL VALUES\n",
    "df.na.drop().show()\n",
    "\n",
    "#OR YOU CAN USE\n",
    "#df = df.na.drop()\n",
    "#df.show()"
   ]
  },
  {
   "cell_type": "code",
   "execution_count": 43,
   "metadata": {},
   "outputs": [
    {
     "name": "stdout",
     "output_type": "stream",
     "text": [
      "+------+---+---+\n",
      "|  name|age|exp|\n",
      "+------+---+---+\n",
      "|aditya| 24|  2|\n",
      "+------+---+---+\n",
      "\n"
     ]
    }
   ],
   "source": [
    "#how parameter in drop\n",
    "#drop(how = \"\", thres=\"\", subset=\"\") ---> these are the parameters we can give inside drop function while dealing NULL(na) values\n",
    "\n",
    "#how parameter is going to tell python that , how we are going to delete null values, should we delete any row with \n",
    "#having even single NULL values or somthing else\n",
    "df.na.drop(how=\"any\").show() #--> \"any\" defines that if we have even 1 null values , then we should delete entire row"
   ]
  },
  {
   "cell_type": "code",
   "execution_count": 44,
   "metadata": {},
   "outputs": [
    {
     "name": "stdout",
     "output_type": "stream",
     "text": [
      "+------+----+----+\n",
      "|  name| age| exp|\n",
      "+------+----+----+\n",
      "|aditya|  24|   2|\n",
      "|  meow|null|   3|\n",
      "|  null|  14|   3|\n",
      "| nigga|null|null|\n",
      "+------+----+----+\n",
      "\n"
     ]
    }
   ],
   "source": [
    "df.na.drop(how=\"all\").show() # --> It is going to delete only those values which are having ALL null values in ROWS"
   ]
  },
  {
   "cell_type": "code",
   "execution_count": 46,
   "metadata": {},
   "outputs": [
    {
     "name": "stdout",
     "output_type": "stream",
     "text": [
      "+------+----+----+\n",
      "|  name| age| exp|\n",
      "+------+----+----+\n",
      "|aditya|  24|   2|\n",
      "|  meow|null|   3|\n",
      "|  null|  14|   3|\n",
      "| nigga|null|null|\n",
      "+------+----+----+\n",
      "\n"
     ]
    }
   ],
   "source": [
    "#drop(thresh = \"\") --> It stands for threshold --> It says that MINIMUM NUMBER OF Non Null VALUES should be present \n",
    "#in row , if the some rows has less Non NULL values than threshold then we will drop it.\n",
    "\n",
    "df.na.drop(thresh=1).show()"
   ]
  },
  {
   "cell_type": "code",
   "execution_count": 47,
   "metadata": {},
   "outputs": [
    {
     "name": "stdout",
     "output_type": "stream",
     "text": [
      "+------+---+---+\n",
      "|  name|age|exp|\n",
      "+------+---+---+\n",
      "|aditya| 24|  2|\n",
      "|  null| 14|  3|\n",
      "+------+---+---+\n",
      "\n"
     ]
    }
   ],
   "source": [
    "#Subset --> drop(subset=['colname']) --> THis basically says that on which colummn(s) we want to apply drop function,\n",
    "#instead of applying drop() function on entire dataframe\n",
    "\n",
    "df.na.drop(subset=['age']).show()"
   ]
  },
  {
   "cell_type": "code",
   "execution_count": 53,
   "metadata": {},
   "outputs": [
    {
     "name": "stdout",
     "output_type": "stream",
     "text": [
      "+------------+----+----+\n",
      "|        name| age| exp|\n",
      "+------------+----+----+\n",
      "|      aditya|  24|   2|\n",
      "|        meow|null|   3|\n",
      "|missingvalss|  14|   3|\n",
      "|       nigga|null|null|\n",
      "|missingvalss|null|null|\n",
      "+------------+----+----+\n",
      "\n"
     ]
    }
   ],
   "source": [
    "#Fill up the Missing values --> This will replace all empty fields(null/na values) in dataframe with a given value\n",
    "#fill('missing value', ['col1', 'col2'....])\n",
    "\n",
    "\n",
    "df.na.fill('missingvalss',['name','age','exp']).show()"
   ]
  },
  {
   "cell_type": "code",
   "execution_count": 55,
   "metadata": {},
   "outputs": [
    {
     "name": "stdout",
     "output_type": "stream",
     "text": [
      "+------+---+----+\n",
      "|  name|age| exp|\n",
      "+------+---+----+\n",
      "|aditya| 24|   2|\n",
      "|  meow| 19|   3|\n",
      "|  null| 14|   3|\n",
      "| nigga| 19|null|\n",
      "|  null| 19|null|\n",
      "+------+---+----+\n",
      "\n"
     ]
    }
   ],
   "source": [
    "#Fill null values by the help of imputer\n",
    "\n",
    "from pyspark.ml.feature import Imputer\n",
    "\n",
    "imputer = Imputer(\n",
    "    inputCols=['age'],\n",
    "    outputCols=['imputed_age']\n",
    ").setStrategy(\"mean\")\n",
    "\n",
    "#Add imputation cols to df\n",
    "imputer.fit(df).transform(df).show()\n",
    "\n",
    "#If you dont want to make extra imputed col , rather than you want to show imputed values in the same cols then:-\n",
    "#Y0U can keep inputCols and outputCols same\n",
    "'''\n",
    "imputer = Imputer(\n",
    "    inputCols=['age'],\n",
    "    outputCols=['age']\n",
    ").setStrategy(\"mean\")\n",
    "'''"
   ]
  },
  {
   "cell_type": "code",
   "execution_count": 56,
   "metadata": {},
   "outputs": [
    {
     "name": "stdout",
     "output_type": "stream",
     "text": [
      "+------+----+----+-----------+\n",
      "|  name| age| exp|imputed_exp|\n",
      "+------+----+----+-----------+\n",
      "|aditya|  24|   2|          2|\n",
      "|  meow|null|   3|          3|\n",
      "|  null|  14|   3|          3|\n",
      "| nigga|null|null|          3|\n",
      "|  null|null|null|          3|\n",
      "+------+----+----+-----------+\n",
      "\n"
     ]
    }
   ],
   "source": [
    "imputer = Imputer(\n",
    "    inputCols=['exp'],\n",
    "    outputCols=['imputed_exp']\n",
    ").setStrategy(\"median\")\n",
    "\n",
    "imputer.fit(df).transform(df).show()"
   ]
  },
  {
   "cell_type": "code",
   "execution_count": null,
   "metadata": {},
   "outputs": [],
   "source": [
    "#FILTER OPERATIONS\n",
    "# &,|,==\n",
    "# ~"
   ]
  },
  {
   "cell_type": "code",
   "execution_count": 58,
   "metadata": {},
   "outputs": [
    {
     "name": "stdout",
     "output_type": "stream",
     "text": [
      "+------+---+---+------+\n",
      "|  name|age|exp|salary|\n",
      "+------+---+---+------+\n",
      "|aditya| 24|  4|400000|\n",
      "|  meow| 13|  3|   400|\n",
      "| nigga| 45|  3| 50000|\n",
      "|   dom| 67| 39| 20000|\n",
      "|chmaar| 20|  2| 12000|\n",
      "+------+---+---+------+\n",
      "\n"
     ]
    }
   ],
   "source": [
    "df1 = spark.read.csv('salary.csv', header=True, inferSchema=True)\n",
    "df1.show()"
   ]
  },
  {
   "cell_type": "code",
   "execution_count": 59,
   "metadata": {},
   "outputs": [
    {
     "name": "stdout",
     "output_type": "stream",
     "text": [
      "+------+---+---+------+\n",
      "|  name|age|exp|salary|\n",
      "+------+---+---+------+\n",
      "|  meow| 13|  3|   400|\n",
      "|   dom| 67| 39| 20000|\n",
      "|chmaar| 20|  2| 12000|\n",
      "+------+---+---+------+\n",
      "\n"
     ]
    }
   ],
   "source": [
    "#showing the records where salary<=20000\n",
    "\n",
    "df1.filter(\"salary<=20000\").show()"
   ]
  },
  {
   "cell_type": "code",
   "execution_count": 60,
   "metadata": {},
   "outputs": [
    {
     "name": "stdout",
     "output_type": "stream",
     "text": [
      "+------+---+\n",
      "|  name|exp|\n",
      "+------+---+\n",
      "|  meow|  3|\n",
      "|   dom| 39|\n",
      "|chmaar|  2|\n",
      "+------+---+\n",
      "\n"
     ]
    }
   ],
   "source": [
    "df1.filter(\"salary<=20000\").select(['name','exp']).show()"
   ]
  },
  {
   "cell_type": "code",
   "execution_count": 62,
   "metadata": {},
   "outputs": [
    {
     "name": "stdout",
     "output_type": "stream",
     "text": [
      "+------+---+---+------+\n",
      "|  name|age|exp|salary|\n",
      "+------+---+---+------+\n",
      "|   dom| 67| 39| 20000|\n",
      "|chmaar| 20|  2| 12000|\n",
      "+------+---+---+------+\n",
      "\n"
     ]
    }
   ],
   "source": [
    "df1.filter( (df1['salary']>=5000) & (df1['salary']<=20000) ).show()"
   ]
  },
  {
   "cell_type": "code",
   "execution_count": 65,
   "metadata": {},
   "outputs": [
    {
     "name": "stdout",
     "output_type": "stream",
     "text": [
      "+------+---+---+------+\n",
      "|  name|age|exp|salary|\n",
      "+------+---+---+------+\n",
      "|aditya| 24|  4|400000|\n",
      "+------+---+---+------+\n",
      "\n"
     ]
    }
   ],
   "source": [
    "df1.filter(df1['name']==\"aditya\").show()"
   ]
  },
  {
   "cell_type": "code",
   "execution_count": 64,
   "metadata": {},
   "outputs": [
    {
     "name": "stdout",
     "output_type": "stream",
     "text": [
      "+------+\n",
      "|salary|\n",
      "+------+\n",
      "|400000|\n",
      "+------+\n",
      "\n"
     ]
    }
   ],
   "source": [
    "df1.filter(df1['name']==\"aditya\").select('salary').show()"
   ]
  },
  {
   "cell_type": "code",
   "execution_count": 66,
   "metadata": {},
   "outputs": [
    {
     "name": "stdout",
     "output_type": "stream",
     "text": [
      "+------+---+---+------+\n",
      "|  name|age|exp|salary|\n",
      "+------+---+---+------+\n",
      "|aditya| 24|  4|400000|\n",
      "|  meow| 13|  3|   400|\n",
      "+------+---+---+------+\n",
      "\n"
     ]
    }
   ],
   "source": [
    "df1.filter( (df1['name'] == \"meow\") | (df1['name'] == \"aditya\") ).show()"
   ]
  },
  {
   "cell_type": "code",
   "execution_count": 68,
   "metadata": {},
   "outputs": [
    {
     "name": "stdout",
     "output_type": "stream",
     "text": [
      "+------+---+---+------+\n",
      "|  name|age|exp|salary|\n",
      "+------+---+---+------+\n",
      "|aditya| 24|  4|400000|\n",
      "| nigga| 45|  3| 50000|\n",
      "|   dom| 67| 39| 20000|\n",
      "|chmaar| 20|  2| 12000|\n",
      "+------+---+---+------+\n",
      "\n"
     ]
    }
   ],
   "source": [
    "df1.filter( ~(df1['name'] == \"meow\") ).show()"
   ]
  },
  {
   "cell_type": "code",
   "execution_count": 7,
   "metadata": {},
   "outputs": [
    {
     "name": "stdout",
     "output_type": "stream",
     "text": [
      "+----------+-----------+------+\n",
      "|      name|departments|salary|\n",
      "+----------+-----------+------+\n",
      "|     krish|datascience| 10000|\n",
      "|     krish|        iot|  5000|\n",
      "|    mahesh|    bigdata|  4000|\n",
      "|     krish|    bigdata|  4000|\n",
      "|    mahesh|datascience|  3000|\n",
      "|shudhanshu|datascience| 20000|\n",
      "|shudhanshu|        iot| 10000|\n",
      "|shudhanshu|    bigdata|  5000|\n",
      "|     sunny|datascience| 10000|\n",
      "|     sunny|    bigdata|  2000|\n",
      "+----------+-----------+------+\n",
      "\n"
     ]
    }
   ],
   "source": [
    "df2 = spark.read.csv('test3.csv',header=True,inferSchema=True)\n",
    "df2.show()"
   ]
  },
  {
   "cell_type": "code",
   "execution_count": 8,
   "metadata": {},
   "outputs": [
    {
     "name": "stdout",
     "output_type": "stream",
     "text": [
      "root\n",
      " |-- name: string (nullable = true)\n",
      " |-- departments: string (nullable = true)\n",
      " |-- salary: integer (nullable = true)\n",
      "\n"
     ]
    }
   ],
   "source": [
    "df2.printSchema()"
   ]
  },
  {
   "cell_type": "code",
   "execution_count": 11,
   "metadata": {},
   "outputs": [
    {
     "name": "stdout",
     "output_type": "stream",
     "text": [
      "+----------+-----------+\n",
      "|      name|sum(salary)|\n",
      "+----------+-----------+\n",
      "|shudhanshu|      35000|\n",
      "|     sunny|      12000|\n",
      "|     krish|      19000|\n",
      "|    mahesh|       7000|\n",
      "+----------+-----------+\n",
      "\n"
     ]
    }
   ],
   "source": [
    "#GROUP BY OPERATIONS\n",
    "#NOTE -> ALWAYS AGGREGATE FUNCTIONS WORKS WITH GROUPBY , AGGREGATED FUNCTION CAN'T BE CALLED ALONE (WITHOUT GROUPBY)\n",
    "#So 1st we need to apply groupBy function then we need to apply aggregate function\n",
    "\n",
    "\n",
    "df2.groupBy('name').sum().show()"
   ]
  },
  {
   "cell_type": "code",
   "execution_count": 18,
   "metadata": {},
   "outputs": [
    {
     "name": "stdout",
     "output_type": "stream",
     "text": [
      "+----------+-----------+\n",
      "|      name|max(salary)|\n",
      "+----------+-----------+\n",
      "|shudhanshu|      20000|\n",
      "|     sunny|      10000|\n",
      "|     krish|      10000|\n",
      "|    mahesh|       4000|\n",
      "+----------+-----------+\n",
      "\n"
     ]
    }
   ],
   "source": [
    "df2.groupBy('name').max().show()"
   ]
  },
  {
   "cell_type": "code",
   "execution_count": 20,
   "metadata": {},
   "outputs": [
    {
     "name": "stdout",
     "output_type": "stream",
     "text": [
      "+-----------+-----------+\n",
      "|departments|min(salary)|\n",
      "+-----------+-----------+\n",
      "|        iot|       5000|\n",
      "|    bigdata|       2000|\n",
      "|datascience|       3000|\n",
      "+-----------+-----------+\n",
      "\n"
     ]
    }
   ],
   "source": [
    "df2.groupBy('departments').min().show()"
   ]
  },
  {
   "cell_type": "code",
   "execution_count": 13,
   "metadata": {},
   "outputs": [
    {
     "name": "stdout",
     "output_type": "stream",
     "text": [
      "+-----------+-----------+\n",
      "|departments|sum(salary)|\n",
      "+-----------+-----------+\n",
      "|        iot|      15000|\n",
      "|    bigdata|      15000|\n",
      "|datascience|      43000|\n",
      "+-----------+-----------+\n",
      "\n"
     ]
    }
   ],
   "source": [
    "df2.groupBy('departments').sum().show()"
   ]
  },
  {
   "cell_type": "code",
   "execution_count": 19,
   "metadata": {},
   "outputs": [
    {
     "name": "stdout",
     "output_type": "stream",
     "text": [
      "+-----------+-----------+\n",
      "|departments|avg(salary)|\n",
      "+-----------+-----------+\n",
      "|        iot|     7500.0|\n",
      "|    bigdata|     3750.0|\n",
      "|datascience|    10750.0|\n",
      "+-----------+-----------+\n",
      "\n"
     ]
    }
   ],
   "source": [
    "df2.groupBy('departments').mean().show()"
   ]
  },
  {
   "cell_type": "code",
   "execution_count": 15,
   "metadata": {},
   "outputs": [
    {
     "name": "stdout",
     "output_type": "stream",
     "text": [
      "+-----------+-----+\n",
      "|departments|count|\n",
      "+-----------+-----+\n",
      "|        iot|    2|\n",
      "|    bigdata|    4|\n",
      "|datascience|    4|\n",
      "+-----------+-----+\n",
      "\n"
     ]
    }
   ],
   "source": [
    "df2.groupBy('departments').count().show()"
   ]
  },
  {
   "cell_type": "code",
   "execution_count": null,
   "metadata": {},
   "outputs": [],
   "source": [
    "#PySparkML"
   ]
  },
  {
   "cell_type": "code",
   "execution_count": 22,
   "metadata": {},
   "outputs": [
    {
     "name": "stdout",
     "output_type": "stream",
     "text": [
      "+----------+---+----------+------+\n",
      "|      name|age|experience|salary|\n",
      "+----------+---+----------+------+\n",
      "|     krish| 31|        10| 30000|\n",
      "|shudhanshu| 30|         8| 25000|\n",
      "|     sunny| 29|         4| 20000|\n",
      "|      paul| 24|         3| 20000|\n",
      "|    harsha| 21|         1| 15000|\n",
      "|   shubham| 23|         2| 18000|\n",
      "+----------+---+----------+------+\n",
      "\n"
     ]
    }
   ],
   "source": [
    "df3 = spark.read.csv('test4.csv', header=True, inferSchema=True)\n",
    "df3.show()"
   ]
  },
  {
   "cell_type": "code",
   "execution_count": 23,
   "metadata": {},
   "outputs": [
    {
     "name": "stdout",
     "output_type": "stream",
     "text": [
      "root\n",
      " |-- name: string (nullable = true)\n",
      " |-- age: integer (nullable = true)\n",
      " |-- experience: integer (nullable = true)\n",
      " |-- salary: integer (nullable = true)\n",
      "\n"
     ]
    }
   ],
   "source": [
    "df3.printSchema()"
   ]
  },
  {
   "cell_type": "code",
   "execution_count": 24,
   "metadata": {},
   "outputs": [
    {
     "data": {
      "text/plain": [
       "['name', 'age', 'experience', 'salary']"
      ]
     },
     "execution_count": 24,
     "metadata": {},
     "output_type": "execute_result"
    }
   ],
   "source": [
    "df3.columns"
   ]
  },
  {
   "cell_type": "code",
   "execution_count": 27,
   "metadata": {},
   "outputs": [
    {
     "data": {
      "text/plain": [
       "[('name', 'string'), ('age', 'int'), ('experience', 'int'), ('salary', 'int')]"
      ]
     },
     "execution_count": 27,
     "metadata": {},
     "output_type": "execute_result"
    }
   ],
   "source": [
    "df3.dtypes"
   ]
  },
  {
   "cell_type": "code",
   "execution_count": 35,
   "metadata": {},
   "outputs": [],
   "source": [
    "#Now we are trying to create a ML model where we take age & experience as independent varibale and salary as\n",
    "#dependent variable\n",
    "\n",
    "from pyspark.ml.feature import VectorAssembler\n",
    "featureassembler = VectorAssembler(inputCols=[\"age\",\"experience\"], outputCol=\"IndependentFeature\")"
   ]
  },
  {
   "cell_type": "code",
   "execution_count": 36,
   "metadata": {},
   "outputs": [],
   "source": [
    "output=featureassembler.transform(df3)"
   ]
  },
  {
   "cell_type": "code",
   "execution_count": 37,
   "metadata": {},
   "outputs": [
    {
     "name": "stdout",
     "output_type": "stream",
     "text": [
      "+----------+---+----------+------+------------------+\n",
      "|      name|age|experience|salary|IndependentFeature|\n",
      "+----------+---+----------+------+------------------+\n",
      "|     krish| 31|        10| 30000|       [31.0,10.0]|\n",
      "|shudhanshu| 30|         8| 25000|        [30.0,8.0]|\n",
      "|     sunny| 29|         4| 20000|        [29.0,4.0]|\n",
      "|      paul| 24|         3| 20000|        [24.0,3.0]|\n",
      "|    harsha| 21|         1| 15000|        [21.0,1.0]|\n",
      "|   shubham| 23|         2| 18000|        [23.0,2.0]|\n",
      "+----------+---+----------+------+------------------+\n",
      "\n"
     ]
    }
   ],
   "source": [
    "output.show()"
   ]
  },
  {
   "cell_type": "code",
   "execution_count": 38,
   "metadata": {},
   "outputs": [
    {
     "data": {
      "text/plain": [
       "['name', 'age', 'experience', 'salary', 'IndependentFeature']"
      ]
     },
     "execution_count": 38,
     "metadata": {},
     "output_type": "execute_result"
    }
   ],
   "source": [
    "output.columns"
   ]
  },
  {
   "cell_type": "code",
   "execution_count": 39,
   "metadata": {},
   "outputs": [
    {
     "name": "stdout",
     "output_type": "stream",
     "text": [
      "+------------------+------+\n",
      "|IndependentFeature|salary|\n",
      "+------------------+------+\n",
      "|       [31.0,10.0]| 30000|\n",
      "|        [30.0,8.0]| 25000|\n",
      "|        [29.0,4.0]| 20000|\n",
      "|        [24.0,3.0]| 20000|\n",
      "|        [21.0,1.0]| 15000|\n",
      "|        [23.0,2.0]| 18000|\n",
      "+------------------+------+\n",
      "\n"
     ]
    }
   ],
   "source": [
    "finalizeddata = output.select([\"IndependentFeature\",\"salary\"])\n",
    "finalizeddata.show()"
   ]
  },
  {
   "cell_type": "code",
   "execution_count": 41,
   "metadata": {},
   "outputs": [],
   "source": [
    "from pyspark.ml.regression import LinearRegression\n",
    "#test train split\n",
    "traindata,testdata=finalizeddata.randomSplit([0.75, 0.25])\n",
    "regressor=LinearRegression(featuresCol='IndependentFeature', labelCol='salary')\n",
    "regressor=regressor.fit(traindata)"
   ]
  },
  {
   "cell_type": "code",
   "execution_count": 42,
   "metadata": {},
   "outputs": [
    {
     "data": {
      "text/plain": [
       "DenseVector([47.619, 1285.7143])"
      ]
     },
     "execution_count": 42,
     "metadata": {},
     "output_type": "execute_result"
    }
   ],
   "source": [
    "#coefficients\n",
    "regressor.coefficients"
   ]
  },
  {
   "cell_type": "code",
   "execution_count": 43,
   "metadata": {},
   "outputs": [
    {
     "data": {
      "text/plain": [
       "13619.047619047662"
      ]
     },
     "execution_count": 43,
     "metadata": {},
     "output_type": "execute_result"
    }
   ],
   "source": [
    "#intercept\n",
    "regressor.intercept"
   ]
  },
  {
   "cell_type": "code",
   "execution_count": 47,
   "metadata": {},
   "outputs": [
    {
     "name": "stdout",
     "output_type": "stream",
     "text": [
      "+------------------+------+-----------------+\n",
      "|IndependentFeature|salary|       prediction|\n",
      "+------------------+------+-----------------+\n",
      "|        [23.0,2.0]| 18000|17285.71428571428|\n",
      "|       [31.0,10.0]| 30000|27952.38095238097|\n",
      "+------------------+------+-----------------+\n",
      "\n"
     ]
    },
    {
     "name": "stderr",
     "output_type": "stream",
     "text": [
      "/home/printadi/.local/lib/python3.6/site-packages/pyspark/sql/context.py:127: FutureWarning: Deprecated in 3.0.0. Use SparkSession.builder.getOrCreate() instead.\n",
      "  FutureWarning\n"
     ]
    }
   ],
   "source": [
    "#predictions\n",
    "pred_results = regressor.evaluate(testdata)\n",
    "pred_results.predictions.show()"
   ]
  },
  {
   "cell_type": "code",
   "execution_count": 49,
   "metadata": {},
   "outputs": [
    {
     "data": {
      "text/plain": [
       "(1380.9523809523762, 2351473.922902466)"
      ]
     },
     "execution_count": 49,
     "metadata": {},
     "output_type": "execute_result"
    }
   ],
   "source": [
    "pred_results.meanAbsoluteError, pred_results.meanSquaredError"
   ]
  },
  {
   "cell_type": "code",
   "execution_count": null,
   "metadata": {},
   "outputs": [],
   "source": [
    "#NEW DATASET"
   ]
  },
  {
   "cell_type": "code",
   "execution_count": 51,
   "metadata": {},
   "outputs": [
    {
     "name": "stdout",
     "output_type": "stream",
     "text": [
      "+----------+----+------+------+---+------+----+\n",
      "|total_bill| tip|   sex|smoker|day|  time|size|\n",
      "+----------+----+------+------+---+------+----+\n",
      "|     16.99|1.01|Female|    No|Sun|Dinner|   2|\n",
      "|     10.34|1.66|  Male|    No|Sun|Dinner|   3|\n",
      "|     21.01| 3.5|  Male|    No|Sun|Dinner|   3|\n",
      "|     23.68|3.31|  Male|    No|Sun|Dinner|   2|\n",
      "|     24.59|3.61|Female|    No|Sun|Dinner|   4|\n",
      "|     25.29|4.71|  Male|    No|Sun|Dinner|   4|\n",
      "|      8.77| 2.0|  Male|    No|Sun|Dinner|   2|\n",
      "|     26.88|3.12|  Male|    No|Sun|Dinner|   4|\n",
      "|     15.04|1.96|  Male|    No|Sun|Dinner|   2|\n",
      "|     14.78|3.23|  Male|    No|Sun|Dinner|   2|\n",
      "|     10.27|1.71|  Male|    No|Sun|Dinner|   2|\n",
      "|     35.26| 5.0|Female|    No|Sun|Dinner|   4|\n",
      "|     15.42|1.57|  Male|    No|Sun|Dinner|   2|\n",
      "|     18.43| 3.0|  Male|    No|Sun|Dinner|   4|\n",
      "|     14.83|3.02|Female|    No|Sun|Dinner|   2|\n",
      "|     21.58|3.92|  Male|    No|Sun|Dinner|   2|\n",
      "|     10.33|1.67|Female|    No|Sun|Dinner|   3|\n",
      "|     16.29|3.71|  Male|    No|Sun|Dinner|   3|\n",
      "|     16.97| 3.5|Female|    No|Sun|Dinner|   3|\n",
      "|     20.65|3.35|  Male|    No|Sat|Dinner|   3|\n",
      "+----------+----+------+------+---+------+----+\n",
      "only showing top 20 rows\n",
      "\n"
     ]
    }
   ],
   "source": [
    "df4 = spark.read.csv('tips.csv', header=True, inferSchema=True)\n",
    "df4.show()"
   ]
  },
  {
   "cell_type": "code",
   "execution_count": 52,
   "metadata": {},
   "outputs": [
    {
     "name": "stdout",
     "output_type": "stream",
     "text": [
      "root\n",
      " |-- total_bill: double (nullable = true)\n",
      " |-- tip: double (nullable = true)\n",
      " |-- sex: string (nullable = true)\n",
      " |-- smoker: string (nullable = true)\n",
      " |-- day: string (nullable = true)\n",
      " |-- time: string (nullable = true)\n",
      " |-- size: integer (nullable = true)\n",
      "\n"
     ]
    }
   ],
   "source": [
    "df4.printSchema()"
   ]
  },
  {
   "cell_type": "code",
   "execution_count": 53,
   "metadata": {},
   "outputs": [
    {
     "data": {
      "text/plain": [
       "['total_bill', 'tip', 'sex', 'smoker', 'day', 'time', 'size']"
      ]
     },
     "execution_count": 53,
     "metadata": {},
     "output_type": "execute_result"
    }
   ],
   "source": [
    "df4.columns"
   ]
  },
  {
   "cell_type": "code",
   "execution_count": 54,
   "metadata": {},
   "outputs": [],
   "source": [
    "#handling categorical features --> sex, smoker, day, time --> we are doing this to convert string values to \n",
    "#integer for ML\n",
    "\n",
    "#In ML we use oneHotEncoding but here in pySpark we will use StringIndexer\n",
    "\n",
    "\n",
    "from pyspark.ml.feature import StringIndexer"
   ]
  },
  {
   "cell_type": "code",
   "execution_count": 56,
   "metadata": {},
   "outputs": [],
   "source": [
    "indexer = StringIndexer(\n",
    "    inputCols=[\"sex\",\"smoker\",\"day\",\"time\"],\n",
    "    outputCols=[\"sex_indexed\",\"smoker_indexed\",\"day_indexed\",\"tme_indexed\"]\n",
    ")\n",
    "df_r = indexer.fit(df4).transform(df4)\n"
   ]
  },
  {
   "cell_type": "code",
   "execution_count": 57,
   "metadata": {},
   "outputs": [
    {
     "name": "stdout",
     "output_type": "stream",
     "text": [
      "+----------+----+------+------+---+------+----+-----------+--------------+-----------+-----------+\n",
      "|total_bill| tip|   sex|smoker|day|  time|size|sex_indexed|smoker_indexed|day_indexed|tme_indexed|\n",
      "+----------+----+------+------+---+------+----+-----------+--------------+-----------+-----------+\n",
      "|     16.99|1.01|Female|    No|Sun|Dinner|   2|        1.0|           0.0|        1.0|        0.0|\n",
      "|     10.34|1.66|  Male|    No|Sun|Dinner|   3|        0.0|           0.0|        1.0|        0.0|\n",
      "|     21.01| 3.5|  Male|    No|Sun|Dinner|   3|        0.0|           0.0|        1.0|        0.0|\n",
      "|     23.68|3.31|  Male|    No|Sun|Dinner|   2|        0.0|           0.0|        1.0|        0.0|\n",
      "|     24.59|3.61|Female|    No|Sun|Dinner|   4|        1.0|           0.0|        1.0|        0.0|\n",
      "|     25.29|4.71|  Male|    No|Sun|Dinner|   4|        0.0|           0.0|        1.0|        0.0|\n",
      "|      8.77| 2.0|  Male|    No|Sun|Dinner|   2|        0.0|           0.0|        1.0|        0.0|\n",
      "|     26.88|3.12|  Male|    No|Sun|Dinner|   4|        0.0|           0.0|        1.0|        0.0|\n",
      "|     15.04|1.96|  Male|    No|Sun|Dinner|   2|        0.0|           0.0|        1.0|        0.0|\n",
      "|     14.78|3.23|  Male|    No|Sun|Dinner|   2|        0.0|           0.0|        1.0|        0.0|\n",
      "|     10.27|1.71|  Male|    No|Sun|Dinner|   2|        0.0|           0.0|        1.0|        0.0|\n",
      "|     35.26| 5.0|Female|    No|Sun|Dinner|   4|        1.0|           0.0|        1.0|        0.0|\n",
      "|     15.42|1.57|  Male|    No|Sun|Dinner|   2|        0.0|           0.0|        1.0|        0.0|\n",
      "|     18.43| 3.0|  Male|    No|Sun|Dinner|   4|        0.0|           0.0|        1.0|        0.0|\n",
      "|     14.83|3.02|Female|    No|Sun|Dinner|   2|        1.0|           0.0|        1.0|        0.0|\n",
      "|     21.58|3.92|  Male|    No|Sun|Dinner|   2|        0.0|           0.0|        1.0|        0.0|\n",
      "|     10.33|1.67|Female|    No|Sun|Dinner|   3|        1.0|           0.0|        1.0|        0.0|\n",
      "|     16.29|3.71|  Male|    No|Sun|Dinner|   3|        0.0|           0.0|        1.0|        0.0|\n",
      "|     16.97| 3.5|Female|    No|Sun|Dinner|   3|        1.0|           0.0|        1.0|        0.0|\n",
      "|     20.65|3.35|  Male|    No|Sat|Dinner|   3|        0.0|           0.0|        0.0|        0.0|\n",
      "+----------+----+------+------+---+------+----+-----------+--------------+-----------+-----------+\n",
      "only showing top 20 rows\n",
      "\n"
     ]
    }
   ],
   "source": [
    "df_r.show()"
   ]
  },
  {
   "cell_type": "code",
   "execution_count": 58,
   "metadata": {},
   "outputs": [
    {
     "data": {
      "text/plain": [
       "['total_bill',\n",
       " 'tip',\n",
       " 'sex',\n",
       " 'smoker',\n",
       " 'day',\n",
       " 'time',\n",
       " 'size',\n",
       " 'sex_indexed',\n",
       " 'smoker_indexed',\n",
       " 'day_indexed',\n",
       " 'tme_indexed']"
      ]
     },
     "execution_count": 58,
     "metadata": {},
     "output_type": "execute_result"
    }
   ],
   "source": [
    "df_r.columns"
   ]
  },
  {
   "cell_type": "code",
   "execution_count": 62,
   "metadata": {},
   "outputs": [],
   "source": [
    "#NOW WE WILL USE VectorAssembler -> beacause we use Vector Assembler to group INDEPENDENT FEATURES together, \n",
    "#and we want dependent features to be separate\n",
    "\n",
    "from pyspark.ml.feature import VectorAssembler\n",
    "featureassembler = VectorAssembler(\n",
    "    inputCols=[\"tip\",\"sex_indexed\",\"smoker_indexed\",\"day_indexed\",\"tme_indexed\",\"size\"],\n",
    "    outputCol=\"IndependentFeatures\"\n",
    ")\n",
    "#Incase of SINGLE INPUT/INDEPENDENT feature use--> inputCol=\"column name\"\n",
    "#Incase of Multiple INPUT/INDEPENDENT feature use--> inputCols=[\"column name 1\",\"column name 2\",\"column name 3\".....]\n",
    "#Incase of SINGLE OUTPUT/DEPENDENT feature use--> outputCol=\"column name\"\n",
    "#Incase of Multiple OUTPUT/DEPENDENT feature use--> outputCols=[\"column name 1\",\"column name 2\",\"column name 3\".....]\n",
    "\n",
    "output = featureassembler.transform(df_r)"
   ]
  },
  {
   "cell_type": "code",
   "execution_count": 63,
   "metadata": {},
   "outputs": [
    {
     "name": "stdout",
     "output_type": "stream",
     "text": [
      "+----------+----+------+------+---+------+----+-----------+--------------+-----------+-----------+--------------------+\n",
      "|total_bill| tip|   sex|smoker|day|  time|size|sex_indexed|smoker_indexed|day_indexed|tme_indexed| IndependentFeatures|\n",
      "+----------+----+------+------+---+------+----+-----------+--------------+-----------+-----------+--------------------+\n",
      "|     16.99|1.01|Female|    No|Sun|Dinner|   2|        1.0|           0.0|        1.0|        0.0|[1.01,1.0,0.0,1.0...|\n",
      "|     10.34|1.66|  Male|    No|Sun|Dinner|   3|        0.0|           0.0|        1.0|        0.0|[1.66,0.0,0.0,1.0...|\n",
      "|     21.01| 3.5|  Male|    No|Sun|Dinner|   3|        0.0|           0.0|        1.0|        0.0|[3.5,0.0,0.0,1.0,...|\n",
      "|     23.68|3.31|  Male|    No|Sun|Dinner|   2|        0.0|           0.0|        1.0|        0.0|[3.31,0.0,0.0,1.0...|\n",
      "|     24.59|3.61|Female|    No|Sun|Dinner|   4|        1.0|           0.0|        1.0|        0.0|[3.61,1.0,0.0,1.0...|\n",
      "|     25.29|4.71|  Male|    No|Sun|Dinner|   4|        0.0|           0.0|        1.0|        0.0|[4.71,0.0,0.0,1.0...|\n",
      "|      8.77| 2.0|  Male|    No|Sun|Dinner|   2|        0.0|           0.0|        1.0|        0.0|[2.0,0.0,0.0,1.0,...|\n",
      "|     26.88|3.12|  Male|    No|Sun|Dinner|   4|        0.0|           0.0|        1.0|        0.0|[3.12,0.0,0.0,1.0...|\n",
      "|     15.04|1.96|  Male|    No|Sun|Dinner|   2|        0.0|           0.0|        1.0|        0.0|[1.96,0.0,0.0,1.0...|\n",
      "|     14.78|3.23|  Male|    No|Sun|Dinner|   2|        0.0|           0.0|        1.0|        0.0|[3.23,0.0,0.0,1.0...|\n",
      "|     10.27|1.71|  Male|    No|Sun|Dinner|   2|        0.0|           0.0|        1.0|        0.0|[1.71,0.0,0.0,1.0...|\n",
      "|     35.26| 5.0|Female|    No|Sun|Dinner|   4|        1.0|           0.0|        1.0|        0.0|[5.0,1.0,0.0,1.0,...|\n",
      "|     15.42|1.57|  Male|    No|Sun|Dinner|   2|        0.0|           0.0|        1.0|        0.0|[1.57,0.0,0.0,1.0...|\n",
      "|     18.43| 3.0|  Male|    No|Sun|Dinner|   4|        0.0|           0.0|        1.0|        0.0|[3.0,0.0,0.0,1.0,...|\n",
      "|     14.83|3.02|Female|    No|Sun|Dinner|   2|        1.0|           0.0|        1.0|        0.0|[3.02,1.0,0.0,1.0...|\n",
      "|     21.58|3.92|  Male|    No|Sun|Dinner|   2|        0.0|           0.0|        1.0|        0.0|[3.92,0.0,0.0,1.0...|\n",
      "|     10.33|1.67|Female|    No|Sun|Dinner|   3|        1.0|           0.0|        1.0|        0.0|[1.67,1.0,0.0,1.0...|\n",
      "|     16.29|3.71|  Male|    No|Sun|Dinner|   3|        0.0|           0.0|        1.0|        0.0|[3.71,0.0,0.0,1.0...|\n",
      "|     16.97| 3.5|Female|    No|Sun|Dinner|   3|        1.0|           0.0|        1.0|        0.0|[3.5,1.0,0.0,1.0,...|\n",
      "|     20.65|3.35|  Male|    No|Sat|Dinner|   3|        0.0|           0.0|        0.0|        0.0|(6,[0,5],[3.35,3.0])|\n",
      "+----------+----+------+------+---+------+----+-----------+--------------+-----------+-----------+--------------------+\n",
      "only showing top 20 rows\n",
      "\n"
     ]
    }
   ],
   "source": [
    "output.show()"
   ]
  },
  {
   "cell_type": "code",
   "execution_count": 66,
   "metadata": {},
   "outputs": [],
   "source": [
    "#NOW WE WILL ONLY SELECT IndependentFeatures as X and total_bill as Dependent feature(Y)\n",
    "\n",
    "finalized_data = output.select([\"IndependentFeatures\", \"total_bill\"])"
   ]
  },
  {
   "cell_type": "code",
   "execution_count": 67,
   "metadata": {},
   "outputs": [
    {
     "name": "stdout",
     "output_type": "stream",
     "text": [
      "+--------------------+----------+\n",
      "| IndependentFeatures|total_bill|\n",
      "+--------------------+----------+\n",
      "|[1.01,1.0,0.0,1.0...|     16.99|\n",
      "|[1.66,0.0,0.0,1.0...|     10.34|\n",
      "|[3.5,0.0,0.0,1.0,...|     21.01|\n",
      "|[3.31,0.0,0.0,1.0...|     23.68|\n",
      "|[3.61,1.0,0.0,1.0...|     24.59|\n",
      "|[4.71,0.0,0.0,1.0...|     25.29|\n",
      "|[2.0,0.0,0.0,1.0,...|      8.77|\n",
      "|[3.12,0.0,0.0,1.0...|     26.88|\n",
      "|[1.96,0.0,0.0,1.0...|     15.04|\n",
      "|[3.23,0.0,0.0,1.0...|     14.78|\n",
      "|[1.71,0.0,0.0,1.0...|     10.27|\n",
      "|[5.0,1.0,0.0,1.0,...|     35.26|\n",
      "|[1.57,0.0,0.0,1.0...|     15.42|\n",
      "|[3.0,0.0,0.0,1.0,...|     18.43|\n",
      "|[3.02,1.0,0.0,1.0...|     14.83|\n",
      "|[3.92,0.0,0.0,1.0...|     21.58|\n",
      "|[1.67,1.0,0.0,1.0...|     10.33|\n",
      "|[3.71,0.0,0.0,1.0...|     16.29|\n",
      "|[3.5,1.0,0.0,1.0,...|     16.97|\n",
      "|(6,[0,5],[3.35,3.0])|     20.65|\n",
      "+--------------------+----------+\n",
      "only showing top 20 rows\n",
      "\n"
     ]
    }
   ],
   "source": [
    "finalized_data.show()"
   ]
  },
  {
   "cell_type": "code",
   "execution_count": 71,
   "metadata": {},
   "outputs": [],
   "source": [
    "#Now Creating ML model---> LINEAR REGRESSION\n",
    "\n",
    "from pyspark.ml.regression import LinearRegression\n",
    "#train test split\n",
    "traindata,testdata = finalized_data.randomSplit([0.75,0.25])\n",
    "regressor = LinearRegression(featuresCol='IndependentFeatures', labelCol='total_bill')\n",
    "regressor = regressor.fit(traindata)"
   ]
  },
  {
   "cell_type": "code",
   "execution_count": 72,
   "metadata": {},
   "outputs": [],
   "source": [
    "pred_result = regressor.evaluate(testdata)"
   ]
  },
  {
   "cell_type": "code",
   "execution_count": 74,
   "metadata": {},
   "outputs": [
    {
     "name": "stdout",
     "output_type": "stream",
     "text": [
      "+--------------------+----------+------------------+\n",
      "| IndependentFeatures|total_bill|        prediction|\n",
      "+--------------------+----------+------------------+\n",
      "|(6,[0,5],[1.47,2.0])|     10.77|13.003528728897463|\n",
      "|(6,[0,5],[2.72,2.0])|     13.28| 16.85676115986729|\n",
      "|(6,[0,5],[3.18,2.0])|     19.82| 18.27475069446419|\n",
      "|(6,[0,5],[3.27,2.0])|     17.78|18.552183429494015|\n",
      "| (6,[0,5],[3.6,3.0])|     24.06|23.059536143667486|\n",
      "|(6,[0,5],[3.76,2.0])|     18.24|20.062650542434188|\n",
      "|(6,[0,5],[4.08,2.0])|     17.92|21.049078044762464|\n",
      "|(6,[0,5],[5.92,3.0])|     29.03|30.211135535547484|\n",
      "|(6,[0,5],[6.73,4.0])|     48.27|36.198129503213366|\n",
      "|[1.1,1.0,1.0,0.0,...|      12.9| 12.73304063049877|\n",
      "|[1.25,1.0,0.0,2.0...|      8.51| 9.573035965406785|\n",
      "|[1.5,1.0,0.0,0.0,...|     26.41|11.619524928276986|\n",
      "|[1.5,1.0,0.0,2.0,...|     10.65|10.343682451600749|\n",
      "|[1.58,0.0,1.0,3.0...|     13.42|14.635264877754622|\n",
      "|[1.73,0.0,0.0,2.0...|      9.78|12.529158597862951|\n",
      "|[1.92,0.0,1.0,3.0...|      8.58| 12.19324474658098|\n",
      "|[1.98,0.0,1.0,0.0...|     11.02|16.922197640865278|\n",
      "|[2.0,0.0,0.0,1.0,...|      8.77|14.859243371104593|\n",
      "|[2.0,0.0,0.0,1.0,...|     13.81|14.859243371104593|\n",
      "|[2.0,0.0,1.0,1.0,...|     17.89| 17.20579345123672|\n",
      "+--------------------+----------+------------------+\n",
      "only showing top 20 rows\n",
      "\n"
     ]
    },
    {
     "name": "stderr",
     "output_type": "stream",
     "text": [
      "/home/printadi/.local/lib/python3.6/site-packages/pyspark/sql/context.py:127: FutureWarning: Deprecated in 3.0.0. Use SparkSession.builder.getOrCreate() instead.\n",
      "  FutureWarning\n"
     ]
    }
   ],
   "source": [
    "pred_result.predictions.show()"
   ]
  },
  {
   "cell_type": "code",
   "execution_count": 85,
   "metadata": {},
   "outputs": [
    {
     "name": "stdout",
     "output_type": "stream",
     "text": [
      "29.986981178559905\n",
      "3.8569851906934702\n",
      "[3.0825859447758623,-1.4764813789637525,2.3465500801321277,0.2219440914759227,-1.7197306596280817,3.4900993523974346]\n",
      "1.4919286852820755\n",
      "0.6474116498615599\n"
     ]
    }
   ],
   "source": [
    "#OTHER VALUES MSE, MAE, COEFFICENTS, INTERCEPT\n",
    "print(pred_result.meanSquaredError)\n",
    "print(pred_result.meanAbsoluteError)\n",
    "print(regressor.coefficients)\n",
    "print(regressor.intercept)\n",
    "print(pred_result.r2)"
   ]
  },
  {
   "cell_type": "code",
   "execution_count": null,
   "metadata": {},
   "outputs": [],
   "source": []
  },
  {
   "cell_type": "code",
   "execution_count": null,
   "metadata": {},
   "outputs": [],
   "source": []
  },
  {
   "cell_type": "code",
   "execution_count": null,
   "metadata": {},
   "outputs": [],
   "source": []
  },
  {
   "cell_type": "code",
   "execution_count": null,
   "metadata": {},
   "outputs": [],
   "source": []
  },
  {
   "cell_type": "code",
   "execution_count": null,
   "metadata": {},
   "outputs": [],
   "source": []
  },
  {
   "cell_type": "code",
   "execution_count": null,
   "metadata": {},
   "outputs": [],
   "source": []
  },
  {
   "cell_type": "code",
   "execution_count": null,
   "metadata": {},
   "outputs": [],
   "source": []
  },
  {
   "cell_type": "code",
   "execution_count": null,
   "metadata": {},
   "outputs": [],
   "source": []
  },
  {
   "cell_type": "code",
   "execution_count": null,
   "metadata": {},
   "outputs": [],
   "source": []
  },
  {
   "cell_type": "code",
   "execution_count": null,
   "metadata": {},
   "outputs": [],
   "source": []
  },
  {
   "cell_type": "code",
   "execution_count": null,
   "metadata": {},
   "outputs": [],
   "source": []
  },
  {
   "cell_type": "code",
   "execution_count": null,
   "metadata": {},
   "outputs": [],
   "source": []
  },
  {
   "cell_type": "code",
   "execution_count": null,
   "metadata": {},
   "outputs": [],
   "source": []
  },
  {
   "cell_type": "code",
   "execution_count": null,
   "metadata": {},
   "outputs": [],
   "source": []
  },
  {
   "cell_type": "code",
   "execution_count": null,
   "metadata": {},
   "outputs": [],
   "source": []
  },
  {
   "cell_type": "code",
   "execution_count": null,
   "metadata": {},
   "outputs": [],
   "source": []
  },
  {
   "cell_type": "code",
   "execution_count": null,
   "metadata": {},
   "outputs": [],
   "source": []
  },
  {
   "cell_type": "code",
   "execution_count": null,
   "metadata": {},
   "outputs": [],
   "source": []
  },
  {
   "cell_type": "code",
   "execution_count": null,
   "metadata": {},
   "outputs": [],
   "source": []
  },
  {
   "cell_type": "code",
   "execution_count": null,
   "metadata": {},
   "outputs": [],
   "source": []
  },
  {
   "cell_type": "code",
   "execution_count": null,
   "metadata": {},
   "outputs": [],
   "source": []
  },
  {
   "cell_type": "code",
   "execution_count": null,
   "metadata": {},
   "outputs": [],
   "source": []
  },
  {
   "cell_type": "code",
   "execution_count": null,
   "metadata": {},
   "outputs": [],
   "source": []
  },
  {
   "cell_type": "code",
   "execution_count": null,
   "metadata": {},
   "outputs": [],
   "source": []
  },
  {
   "cell_type": "code",
   "execution_count": null,
   "metadata": {},
   "outputs": [],
   "source": []
  }
 ],
 "metadata": {
  "kernelspec": {
   "display_name": "Python 3",
   "language": "python",
   "name": "python3"
  },
  "language_info": {
   "codemirror_mode": {
    "name": "ipython",
    "version": 3
   },
   "file_extension": ".py",
   "mimetype": "text/x-python",
   "name": "python",
   "nbconvert_exporter": "python",
   "pygments_lexer": "ipython3",
   "version": "3.6.9"
  }
 },
 "nbformat": 4,
 "nbformat_minor": 2
}
